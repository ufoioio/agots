{
 "cells": [
  {
   "cell_type": "code",
   "execution_count": 1,
   "metadata": {},
   "outputs": [],
   "source": [
    "import sys\n",
    "sys.path.append('..')"
   ]
  },
  {
   "cell_type": "code",
   "execution_count": 2,
   "metadata": {},
   "outputs": [],
   "source": [
    "import numpy as np\n",
    "import pandas as pd\n",
    "import matplotlib.pyplot as plt"
   ]
  },
  {
   "cell_type": "code",
   "execution_count": 3,
   "metadata": {},
   "outputs": [],
   "source": [
    "from agots.multivariate_generators.multivariate_variance_outlier_generator import MultivariateVarianceOutlierGenerator"
   ]
  },
  {
   "cell_type": "code",
   "execution_count": 4,
   "metadata": {},
   "outputs": [
    {
     "data": {
      "text/html": [
       "<div>\n",
       "<style scoped>\n",
       "    .dataframe tbody tr th:only-of-type {\n",
       "        vertical-align: middle;\n",
       "    }\n",
       "\n",
       "    .dataframe tbody tr th {\n",
       "        vertical-align: top;\n",
       "    }\n",
       "\n",
       "    .dataframe thead th {\n",
       "        text-align: right;\n",
       "    }\n",
       "</style>\n",
       "<table border=\"1\" class=\"dataframe\">\n",
       "  <thead>\n",
       "    <tr style=\"text-align: right;\">\n",
       "      <th></th>\n",
       "      <th>timestamps</th>\n",
       "      <th>A4Benchmark-TS1</th>\n",
       "      <th>A4Benchmark-TS2</th>\n",
       "      <th>A4Benchmark-TS3</th>\n",
       "      <th>A4Benchmark-TS4</th>\n",
       "      <th>A4Benchmark-TS5</th>\n",
       "      <th>A4Benchmark-TS6</th>\n",
       "      <th>A4Benchmark-TS7</th>\n",
       "      <th>A4Benchmark-TS8</th>\n",
       "      <th>A4Benchmark-TS9</th>\n",
       "      <th>...</th>\n",
       "      <th>A4Benchmark-TS91</th>\n",
       "      <th>A4Benchmark-TS92</th>\n",
       "      <th>A4Benchmark-TS93</th>\n",
       "      <th>A4Benchmark-TS94</th>\n",
       "      <th>A4Benchmark-TS95</th>\n",
       "      <th>A4Benchmark-TS96</th>\n",
       "      <th>A4Benchmark-TS97</th>\n",
       "      <th>A4Benchmark-TS98</th>\n",
       "      <th>A4Benchmark-TS99</th>\n",
       "      <th>A4Benchmark-TS100</th>\n",
       "    </tr>\n",
       "  </thead>\n",
       "  <tbody>\n",
       "    <tr>\n",
       "      <th>0</th>\n",
       "      <td>1.416722e+09</td>\n",
       "      <td>2.889225</td>\n",
       "      <td>4.946131</td>\n",
       "      <td>16.049948</td>\n",
       "      <td>-6.129439</td>\n",
       "      <td>-104.190784</td>\n",
       "      <td>-56.564108</td>\n",
       "      <td>129.420420</td>\n",
       "      <td>2.405428</td>\n",
       "      <td>-14.366646</td>\n",
       "      <td>...</td>\n",
       "      <td>-63.304891</td>\n",
       "      <td>-28.253893</td>\n",
       "      <td>-169.457082</td>\n",
       "      <td>-42.716640</td>\n",
       "      <td>25.968349</td>\n",
       "      <td>-20.883760</td>\n",
       "      <td>134.126741</td>\n",
       "      <td>17.647296</td>\n",
       "      <td>-6.165484</td>\n",
       "      <td>-10.258903</td>\n",
       "    </tr>\n",
       "    <tr>\n",
       "      <th>1</th>\n",
       "      <td>1.416726e+09</td>\n",
       "      <td>112.492219</td>\n",
       "      <td>177.315568</td>\n",
       "      <td>336.599200</td>\n",
       "      <td>251.488637</td>\n",
       "      <td>533.741817</td>\n",
       "      <td>298.485870</td>\n",
       "      <td>516.763295</td>\n",
       "      <td>59.370193</td>\n",
       "      <td>189.768989</td>\n",
       "      <td>...</td>\n",
       "      <td>110.404803</td>\n",
       "      <td>125.360218</td>\n",
       "      <td>633.018826</td>\n",
       "      <td>335.468188</td>\n",
       "      <td>534.965351</td>\n",
       "      <td>509.367341</td>\n",
       "      <td>281.787837</td>\n",
       "      <td>247.829374</td>\n",
       "      <td>76.609465</td>\n",
       "      <td>141.132619</td>\n",
       "    </tr>\n",
       "    <tr>\n",
       "      <th>2</th>\n",
       "      <td>1.416730e+09</td>\n",
       "      <td>131.097056</td>\n",
       "      <td>276.682476</td>\n",
       "      <td>547.794761</td>\n",
       "      <td>645.865406</td>\n",
       "      <td>1023.166673</td>\n",
       "      <td>673.485226</td>\n",
       "      <td>1225.029720</td>\n",
       "      <td>105.042976</td>\n",
       "      <td>369.832887</td>\n",
       "      <td>...</td>\n",
       "      <td>152.500637</td>\n",
       "      <td>177.409450</td>\n",
       "      <td>1126.379471</td>\n",
       "      <td>553.250957</td>\n",
       "      <td>997.258023</td>\n",
       "      <td>790.261057</td>\n",
       "      <td>432.315596</td>\n",
       "      <td>425.722536</td>\n",
       "      <td>119.472792</td>\n",
       "      <td>260.483286</td>\n",
       "    </tr>\n",
       "    <tr>\n",
       "      <th>3</th>\n",
       "      <td>1.416733e+09</td>\n",
       "      <td>128.208836</td>\n",
       "      <td>351.276213</td>\n",
       "      <td>706.897846</td>\n",
       "      <td>834.902321</td>\n",
       "      <td>1118.788397</td>\n",
       "      <td>689.796810</td>\n",
       "      <td>1286.487505</td>\n",
       "      <td>141.459338</td>\n",
       "      <td>531.269994</td>\n",
       "      <td>...</td>\n",
       "      <td>172.375913</td>\n",
       "      <td>314.797132</td>\n",
       "      <td>1205.146926</td>\n",
       "      <td>701.996117</td>\n",
       "      <td>1341.994278</td>\n",
       "      <td>1034.526824</td>\n",
       "      <td>632.952734</td>\n",
       "      <td>500.590942</td>\n",
       "      <td>112.542382</td>\n",
       "      <td>319.502977</td>\n",
       "    </tr>\n",
       "    <tr>\n",
       "      <th>4</th>\n",
       "      <td>1.416737e+09</td>\n",
       "      <td>121.639029</td>\n",
       "      <td>337.027992</td>\n",
       "      <td>696.496354</td>\n",
       "      <td>891.027367</td>\n",
       "      <td>1154.433098</td>\n",
       "      <td>770.085478</td>\n",
       "      <td>890.448544</td>\n",
       "      <td>126.544480</td>\n",
       "      <td>389.602217</td>\n",
       "      <td>...</td>\n",
       "      <td>134.924514</td>\n",
       "      <td>205.162192</td>\n",
       "      <td>918.554680</td>\n",
       "      <td>719.198804</td>\n",
       "      <td>1298.139691</td>\n",
       "      <td>1087.035935</td>\n",
       "      <td>547.288782</td>\n",
       "      <td>614.081015</td>\n",
       "      <td>181.057282</td>\n",
       "      <td>346.294528</td>\n",
       "    </tr>\n",
       "  </tbody>\n",
       "</table>\n",
       "<p>5 rows × 101 columns</p>\n",
       "</div>"
      ],
      "text/plain": [
       "     timestamps  A4Benchmark-TS1  A4Benchmark-TS2  A4Benchmark-TS3  \\\n",
       "0  1.416722e+09         2.889225         4.946131        16.049948   \n",
       "1  1.416726e+09       112.492219       177.315568       336.599200   \n",
       "2  1.416730e+09       131.097056       276.682476       547.794761   \n",
       "3  1.416733e+09       128.208836       351.276213       706.897846   \n",
       "4  1.416737e+09       121.639029       337.027992       696.496354   \n",
       "\n",
       "   A4Benchmark-TS4  A4Benchmark-TS5  A4Benchmark-TS6  A4Benchmark-TS7  \\\n",
       "0        -6.129439      -104.190784       -56.564108       129.420420   \n",
       "1       251.488637       533.741817       298.485870       516.763295   \n",
       "2       645.865406      1023.166673       673.485226      1225.029720   \n",
       "3       834.902321      1118.788397       689.796810      1286.487505   \n",
       "4       891.027367      1154.433098       770.085478       890.448544   \n",
       "\n",
       "   A4Benchmark-TS8  A4Benchmark-TS9  ...  A4Benchmark-TS91  A4Benchmark-TS92  \\\n",
       "0         2.405428       -14.366646  ...        -63.304891        -28.253893   \n",
       "1        59.370193       189.768989  ...        110.404803        125.360218   \n",
       "2       105.042976       369.832887  ...        152.500637        177.409450   \n",
       "3       141.459338       531.269994  ...        172.375913        314.797132   \n",
       "4       126.544480       389.602217  ...        134.924514        205.162192   \n",
       "\n",
       "   A4Benchmark-TS93  A4Benchmark-TS94  A4Benchmark-TS95  A4Benchmark-TS96  \\\n",
       "0       -169.457082        -42.716640         25.968349        -20.883760   \n",
       "1        633.018826        335.468188        534.965351        509.367341   \n",
       "2       1126.379471        553.250957        997.258023        790.261057   \n",
       "3       1205.146926        701.996117       1341.994278       1034.526824   \n",
       "4        918.554680        719.198804       1298.139691       1087.035935   \n",
       "\n",
       "   A4Benchmark-TS97  A4Benchmark-TS98  A4Benchmark-TS99  A4Benchmark-TS100  \n",
       "0        134.126741         17.647296         -6.165484         -10.258903  \n",
       "1        281.787837        247.829374         76.609465         141.132619  \n",
       "2        432.315596        425.722536        119.472792         260.483286  \n",
       "3        632.952734        500.590942        112.542382         319.502977  \n",
       "4        547.288782        614.081015        181.057282         346.294528  \n",
       "\n",
       "[5 rows x 101 columns]"
      ]
     },
     "execution_count": 4,
     "metadata": {},
     "output_type": "execute_result"
    }
   ],
   "source": [
    "df = pd.read_csv('C:/Users/ufoio/Documents/AI/Signal/dataset/ydata-labeled-time-series-anomalies-v1_0/A4Benchmark/A4Benchmark_all.csv')\n",
    "df.head()"
   ]
  },
  {
   "cell_type": "code",
   "execution_count": 5,
   "metadata": {},
   "outputs": [],
   "source": [
    "ts = df.iloc[:1000][['A4Benchmark-TS3']]"
   ]
  },
  {
   "cell_type": "code",
   "execution_count": 6,
   "metadata": {},
   "outputs": [],
   "source": [
    "from agots.multivariate_generators.multivariate_data_input import MultivariateDataInput"
   ]
  },
  {
   "cell_type": "code",
   "execution_count": 7,
   "metadata": {},
   "outputs": [],
   "source": [
    "tmp = pd.DataFrame([0]*1000)"
   ]
  },
  {
   "cell_type": "code",
   "execution_count": 8,
   "metadata": {},
   "outputs": [],
   "source": [
    "data_input = MultivariateDataInput(tmp)"
   ]
  },
  {
   "cell_type": "code",
   "execution_count": 9,
   "metadata": {},
   "outputs": [
    {
     "data": {
      "text/html": [
       "<div>\n",
       "<style scoped>\n",
       "    .dataframe tbody tr th:only-of-type {\n",
       "        vertical-align: middle;\n",
       "    }\n",
       "\n",
       "    .dataframe tbody tr th {\n",
       "        vertical-align: top;\n",
       "    }\n",
       "\n",
       "    .dataframe thead th {\n",
       "        text-align: right;\n",
       "    }\n",
       "</style>\n",
       "<table border=\"1\" class=\"dataframe\">\n",
       "  <thead>\n",
       "    <tr style=\"text-align: right;\">\n",
       "      <th></th>\n",
       "      <th>0</th>\n",
       "    </tr>\n",
       "  </thead>\n",
       "  <tbody>\n",
       "    <tr>\n",
       "      <th>0</th>\n",
       "      <td>0.0</td>\n",
       "    </tr>\n",
       "    <tr>\n",
       "      <th>1</th>\n",
       "      <td>0.0</td>\n",
       "    </tr>\n",
       "    <tr>\n",
       "      <th>2</th>\n",
       "      <td>0.0</td>\n",
       "    </tr>\n",
       "    <tr>\n",
       "      <th>3</th>\n",
       "      <td>0.0</td>\n",
       "    </tr>\n",
       "    <tr>\n",
       "      <th>4</th>\n",
       "      <td>0.0</td>\n",
       "    </tr>\n",
       "    <tr>\n",
       "      <th>...</th>\n",
       "      <td>...</td>\n",
       "    </tr>\n",
       "    <tr>\n",
       "      <th>995</th>\n",
       "      <td>-990.0</td>\n",
       "    </tr>\n",
       "    <tr>\n",
       "      <th>996</th>\n",
       "      <td>-990.0</td>\n",
       "    </tr>\n",
       "    <tr>\n",
       "      <th>997</th>\n",
       "      <td>-990.0</td>\n",
       "    </tr>\n",
       "    <tr>\n",
       "      <th>998</th>\n",
       "      <td>-990.0</td>\n",
       "    </tr>\n",
       "    <tr>\n",
       "      <th>999</th>\n",
       "      <td>-990.0</td>\n",
       "    </tr>\n",
       "  </tbody>\n",
       "</table>\n",
       "<p>1000 rows × 1 columns</p>\n",
       "</div>"
      ],
      "text/plain": [
       "         0\n",
       "0      0.0\n",
       "1      0.0\n",
       "2      0.0\n",
       "3      0.0\n",
       "4      0.0\n",
       "..     ...\n",
       "995 -990.0\n",
       "996 -990.0\n",
       "997 -990.0\n",
       "998 -990.0\n",
       "999 -990.0\n",
       "\n",
       "[1000 rows x 1 columns]"
      ]
     },
     "execution_count": 9,
     "metadata": {},
     "output_type": "execute_result"
    }
   ],
   "source": [
    "T = len(tmp)/20\n",
    "\n",
    "data_input.add_outliers({'freq':   [{'n': 0, 'timestamps': [(300, 400)], 'freq':1/T, 'amplitude':1000}],\n",
    "                         'shift':   [{'n': 0, 'timestamps': [(200, 300)]}],\n",
    "                         'variance':   [{'n': 0, 'timestamps': [(50, 120)]}],\n",
    "                         'trend':   [{'n': 0, 'timestamps': [(400, 500)], 'factor' : 100}],\n",
    "                         'extreme' : [{'n': 0, 'timestamps': [(450,)]}]\n",
    "                        })"
   ]
  },
  {
   "cell_type": "code",
   "execution_count": 10,
   "metadata": {},
   "outputs": [
    {
     "data": {
      "text/plain": [
       "<matplotlib.legend.Legend at 0x2670ff49748>"
      ]
     },
     "execution_count": 10,
     "metadata": {},
     "output_type": "execute_result"
    },
    {
     "data": {
      "image/png": "[encoded data removed]",
      "text/plain": [
       "<Figure size 720x360 with 1 Axes>"
      ]
     },
     "metadata": {
      "needs_background": "light"
     },
     "output_type": "display_data"
    }
   ],
   "source": [
    "fig, ax = plt.subplots(figsize=(10,5))\n",
    "\n",
    "ax.set_ylim(-4000, 4000)\n",
    "ax.plot(data_input.data, label='raw')\n",
    "ax.plot(data_input.outlier_data, label='outlier')\n",
    "#ax.plot(data_input.outlier_data+1000, label='outlier+1000 to compare')\n",
    "\n",
    "ax.legend()"
   ]
  },
  {
   "cell_type": "code",
   "execution_count": null,
   "metadata": {},
   "outputs": [],
   "source": [
    "aadsf"
   ]
  },
  {
   "cell_type": "code",
   "execution_count": null,
   "metadata": {},
   "outputs": [],
   "source": []
  },
  {
   "cell_type": "code",
   "execution_count": null,
   "metadata": {},
   "outputs": [],
   "source": []
  },
  {
   "cell_type": "code",
   "execution_count": null,
   "metadata": {},
   "outputs": [],
   "source": []
  }
 ],
 "metadata": {
  "kernelspec": {
   "display_name": "Python 3",
   "language": "python",
   "name": "python3"
  },
  "language_info": {
   "codemirror_mode": {
    "name": "ipython",
    "version": 3
   },
   "file_extension": ".py",
   "mimetype": "text/x-python",
   "name": "python",
   "nbconvert_exporter": "python",
   "pygments_lexer": "ipython3",
   "version": "3.7.3"
  }
 },
 "nbformat": 4,
 "nbformat_minor": 4
}
